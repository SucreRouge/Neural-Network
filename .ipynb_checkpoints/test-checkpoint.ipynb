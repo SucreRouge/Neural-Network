{
 "cells": [
  {
   "cell_type": "markdown",
   "metadata": {},
   "source": [
    "## import lib and data"
   ]
  },
  {
   "cell_type": "code",
   "execution_count": 1,
   "metadata": {
    "collapsed": true
   },
   "outputs": [],
   "source": [
    "import torch \n",
    "import torchvision\n",
    "import torchvision.transforms as transforms\n",
    "import torch.nn as nn\n",
    "import torch.nn.functional as F\n",
    "from torch.autograd import Variable\n",
    "import matplotlib.pyplot as plt\n",
    "import numpy as np\n",
    "import pandas as pd\n",
    "import math\n",
    "\n",
    "torch.manual_seed(1) #reproducible\n",
    "EPOCH = 4\n",
    "BATCH_SIZE = 128\n",
    "\n",
    "train_data = torchvision.datasets.MNIST(\n",
    "    root='./mnist', #保存位置\n",
    "    train=True, #training set\n",
    "    transform=torchvision.transforms.ToTensor(), #converts a PIL.Image to torch.FloatTensor(C*H*W) in range(0.0,1.0)\n",
    "    download=True\n",
    ")\n",
    "train_loader = torch.utils.data.DataLoader(dataset=train_data, batch_size=BATCH_SIZE, shuffle=True)\n",
    "test_data = torchvision.datasets.MNIST(\n",
    "    root='./MNIST',\n",
    "    train=False,\n",
    "    transform=torchvision.transforms.ToTensor()\n",
    ")\n",
    "test_loader = torch.utils.data.DataLoader(test_data, batch_size=BATCH_SIZE,shuffle=False)"
   ]
  },
  {
   "cell_type": "markdown",
   "metadata": {},
   "source": [
    "## build network and training"
   ]
  },
  {
   "cell_type": "code",
   "execution_count": 48,
   "metadata": {},
   "outputs": [
    {
     "name": "stdout",
     "output_type": "stream",
     "text": [
      "[1,   100] loss: 2.22790700\n",
      "[1,   200] loss: 2.03186697\n",
      "[1,   300] loss: 1.94045548\n",
      "[1,   400] loss: 1.90856410\n",
      "[2,   100] loss: 1.80199160\n",
      "[2,   200] loss: 1.74932100\n",
      "[2,   300] loss: 1.72509898\n",
      "[2,   400] loss: 1.70609517\n",
      "[3,   100] loss: 1.68652855\n",
      "[3,   200] loss: 1.67829376\n",
      "[3,   300] loss: 1.67329691\n",
      "[3,   400] loss: 1.66797582\n",
      "[4,   100] loss: 1.66083339\n",
      "[4,   200] loss: 1.66271252\n",
      "[4,   300] loss: 1.65368391\n",
      "[4,   400] loss: 1.65415865\n",
      "Finished Training\n"
     ]
    }
   ],
   "source": [
    "result_data = np.zeros(20)\n",
    "torch.manual_seed(27)\n",
    "# network structure\n",
    "class CNN(nn.Module):\n",
    "    def __init__(self,D_in,H,D_out):\n",
    "        super(CNN, self).__init__()\n",
    "        self.fc1 = nn.Linear(D_in,H)\n",
    "        torch.nn.init.normal(self.fc1.weight, mean=0, std=0.01)\n",
    "        #nn.init.xavier_normal(self.fc1.weight,gain = 1)\n",
    "        nn.init.constant(self.fc1.bias, 0.1)\n",
    "        \n",
    "        self.fc2 = nn.Linear(H,D_out)\n",
    "        torch.nn.init.normal(self.fc2.weight, mean=0, std=0.3)\n",
    "        #nn.init.xavier_normal(self.fc2.weight, gain = 1)\n",
    "        nn.init.constant(self.fc2.bias, 0.1)\n",
    "       # self.out = nn.Linear(10,10)\n",
    "        \n",
    "    def forward(self, x):\n",
    "        x = x.view(-1, 784)\n",
    "        x = F.relu(self.fc1(x))\n",
    "        x = F.softmax(self.fc2(x))\n",
    "        output = x\n",
    "        #output = self.out(x)\n",
    "        return output\n",
    "\n",
    "D_in,H,D_out = 784,10,10\n",
    "cnn = CNN(D_in,H,D_out)\n",
    "\n",
    "# initial hyperpaameter\n",
    "learning_rate = 0.1\n",
    "u0 = 0.05\n",
    "#loss function:cross-entropy with l2 regularizaiton\n",
    "loss_func = nn.CrossEntropyLoss()\n",
    "# inital all using viariables\n",
    "EMAg = []\n",
    "EMAg_2 = []\n",
    "EMAx = []\n",
    "EMAx_2 = []\n",
    "EMAxg = []\n",
    "EMAu = []\n",
    "beta = []\n",
    "\n",
    "# training iteration\n",
    "for epoch in range(EPOCH):\n",
    "    running_loss = 0.0                        # loss to show\n",
    "    #training each mini-batch in dataloader\n",
    "    for i, data in enumerate(train_loader,0):\n",
    "       # get the inputs\n",
    "        inputs, labels = data\n",
    "\n",
    "        # wrap them in Variable\n",
    "        inputs, labels = Variable(inputs), Variable(labels)\n",
    "\n",
    "        # zero the parameter gradients\n",
    "        cnn.zero_grad()\n",
    "\n",
    "        # forward + backward\n",
    "        outputs = cnn(inputs)\n",
    "        loss = loss_func(outputs, labels)\n",
    "        loss.backward()\n",
    "       \n",
    "        # implementation of cSGD algo\n",
    "        for index,params in enumerate(cnn.parameters(),0):\n",
    "            \n",
    "            #update parameters process\n",
    "            if(i==0 and epoch==0):\n",
    "                #lists store EMA of weight_grad, weight_grad_square, weight, and weight_square\n",
    "                \n",
    "                EMAg.append(torch.Tensor(params.size()))\n",
    "                EMAx.append(torch.Tensor(params.size()))\n",
    "                EMAx_2.append(torch.Tensor(params.size()))\n",
    "                EMAg_2.append(torch.Tensor(params.size()))\n",
    "                EMAxg.append(torch.Tensor(params.size()))\n",
    "                \n",
    "                n = params.dim()\n",
    "                if n ==1:\n",
    "                    for item in range(0,params.size()[0]):\n",
    "                        EMAg[index][item] = params.grad.data[item]\n",
    "                        EMAx[index][item] = params.data[item]\n",
    "                        EMAg_2[index][item] = params.grad.data[item]**2\n",
    "                        EMAx_2[index][item] = params.data[item]**2\n",
    "                        EMAxg[index][item] = params.data[item]*params.grad.data[item]**2\n",
    "                    \n",
    "                if n ==2:\n",
    "                    \n",
    "                    for item1 in range(0,params.size()[0]):\n",
    "                        for item2 in range(0,params.size()[1]):\n",
    "                            EMAg[index][item1,item2] = params.grad.data[item1,item2]\n",
    "                            EMAx[index][item1,item2] = params.data[item1,item2]\n",
    "                            EMAg_2[index][item1,item2] = params.grad.data[item1,item2]**2\n",
    "                            EMAx_2[index][item1,item2] = params.data[item1,item2]**2\n",
    "                            EMAxg[index][item1,item2] = params.data[item1,item2]*params.grad.data[item1,item2]\n",
    "                \n",
    "                #lists store EMA of u and beta\n",
    "                EMAu.append(torch.Tensor(params.size()))\n",
    "                beta.append(torch.ones(params.size())*0.9)\n",
    "                EMAu[index] = torch.ones(EMAu[index].size())*u0\n",
    "                #print(EMAg[index][0,64])\n",
    "                #print(EMAg_2[index][0,1])\n",
    "            else:\n",
    "                one = torch.ones(params.size())\n",
    "                #print(EMAg_2[index][0,1])\n",
    "                #update EMA\n",
    "                EMAg[index] = (beta[index])*EMAg[index]+(one-beta[index])*params.grad.data\n",
    "                EMAg_2[index] = (beta[index])*EMAg_2[index] + (one-beta[index])*(params.grad.data.pow(2))\n",
    "                EMAx[index] = (beta[index])*EMAx[index] + (one-beta[index])*params.data\n",
    "                EMAx_2[index] = (beta[index])*EMAx_2[index]+(one-beta[index])*(params.data.pow(2))\n",
    "                EMAxg[index] = (beta[index])*EMAxg[index] + (one-beta[index])*(params.grad.data*params.data)\n",
    "                \n",
    "                #print(params.grad.data[0,64])\n",
    "                \n",
    "                #cal a,b,sigma,u*\n",
    "                n = params.dim()\n",
    "                a = torch.Tensor(params.size())\n",
    "                b = torch.Tensor(params.size())\n",
    "                sigma = torch.Tensor(params.size())\n",
    "                u = torch.Tensor(params.size())\n",
    "            \n",
    "            \n",
    "                if n == 1:\n",
    "                    for item in range(0,params.size()[0]):\n",
    "                        #cal a\n",
    "                        if EMAxg[index][item]==EMAg[index][item]*EMAx[index][item]:\n",
    "                             a[item] = 0\n",
    "                        elif (EMAx_2[index][item]-EMAx[index][item]**2)==0:\n",
    "                             a[item] = 0\n",
    "                        else:\n",
    "                             a[item] = (EMAxg[index][item]-EMAg[index][item]*EMAx[index][item])/(EMAx_2[index][item]-EMAx[index][item]**2)\n",
    "                        \n",
    "                        \n",
    "                        #cal sigma\n",
    "                        sigma[item] = EMAg_2[index][item] - EMAg[index][item]**2\n",
    "                        \n",
    "                        #cal u*\n",
    "                        if(a[item]<= 0):\n",
    "                            u[item] = 1\n",
    "                        else:\n",
    "                            if(EMAg[index][item]==0):\n",
    "                                u[item] = 0.0\n",
    "                            elif(sigma[item]==0 or a[item]==0):\n",
    "                                u[item] = 1.0\n",
    "                            else:\n",
    "                                u[item] = min(1,(EMAg[index][item]**2)/(learning_rate*sigma[item]*a[item])) \n",
    "                        #update EMA u\n",
    "                        EMAu[index][item] = (beta[index][item])*EMAu[index][item] + (1-beta[index][item])*u[item]\n",
    "                    \n",
    "                        #cal beta\n",
    "                        if (EMAg_2[index][item]==EMAg[index][item]**2):\n",
    "                            beta[index][item] = 0.9\n",
    "                        elif (EMAg_2[index][item]==0):\n",
    "                            beta[index][item] = 0.9\n",
    "                        else:\n",
    "                            beta[index][item] = 0.9+(0.999-0.9)*(EMAg_2[index][item]-EMAg[index][item]**2)/(EMAg_2[index][item])\n",
    "                        \n",
    "                if n == 2:\n",
    "                    \n",
    "                    for item1 in range(0,params.size()[0]):\n",
    "                        for item2 in range(0,params.size()[1]):\n",
    "                            #cal a\n",
    "                            if ((EMAxg[index][item1,item2]-EMAg[index][item1,item2]*EMAx[index][item1,item2])==0):\n",
    "                                a[item1,item2] = 0\n",
    "                            elif (EMAx_2[index][item1,item2]-EMAx[index][item1,item2]**2)==0:\n",
    "                                a[item1,item2] = 0\n",
    "                            else:\n",
    "                                a[item1,item2] =(EMAxg[index][item1,item2]-EMAg[index][item1,item2]*EMAx[index][item1,item2])/(EMAx_2[index][item1,item2]-EMAx[index][item1,item2]**2)            \n",
    "                                #print(a[item1,item2])\n",
    "                        \n",
    "                            #cal sigma\n",
    "                            sigma[item1,item2] = EMAg_2[index][item1,item2] - math.pow(EMAg[index][item1,item2],2)\n",
    "                            #print(sigma[item1,item2])\n",
    "                            #if sigma[item1,item2]<0 :\n",
    "                            #    print(\"%d %d %d\"%(i,item1,item2))\n",
    "                            #    print(EMAg_2[index][item1,item2],EMAg[index][item1,item2])\n",
    "                            #cal u*\n",
    "                            if(a[item1,item2]<= 0):\n",
    "                                u[item1,item2] = 1.0\n",
    "                            else:\n",
    "                                if(EMAg[index][item1,item2]==0):\n",
    "                                    u[item1,item2] = 0.0\n",
    "                                elif(sigma[item1,item2]==0 or a[item1,item2]==0):\n",
    "                                    u[item1,item2] = 1.0\n",
    "                                else:\n",
    "                                    u[item1,item2] = min(1,(EMAg[index][item1,item2]**2)/(learning_rate*sigma[item1,item2]*a[item1,item2])) \n",
    "                                    #print(sigma[item1,item2]*a[item1,item2],EMAg[index][item1,item2]**2)\n",
    "                                    #print(EMAg[index][item1,item2]**2)\n",
    "                                    #print(a[item1,item2]*((EMAx[index][item1,item2]-b[item1,item2])**2)/(learning_rate*sigma[item1,item2]))\n",
    "                            #update EMAu\n",
    "                            EMAu[index][item1,item2] = (beta[index][item1,item2])*EMAu[index][item1,item2] + (1-beta[index][item1,item2])*u[item1,item2]\n",
    "                            #print(params.grad.data[5,5],params.data[5,5])\n",
    "                            #print(EMAx[index][0,5],EMAg[index][0,5],EMAu[index][0,5])\n",
    "                            \n",
    "                            #if i>=100:\n",
    "                            #    print(EMAu[index][item1,item2])\n",
    "                            #cal beta\n",
    "                            if EMAg_2[index][item1,item2]==EMAg[index][item1,item2]**2:\n",
    "                                beta[index][item1,item2] = 0.9\n",
    "                            elif (EMAg_2[index][item1,item2]==0):\n",
    "                                beta[index][item1,item2] = 0.9\n",
    "                            else:\n",
    "                                beta[index][item1,item2] = 0.9+(0.999-0.9)*(EMAg_2[index][item1,item2]-EMAg[index][item1,item2]**2)/(EMAg_2[index][item1,item2])\n",
    "                    #print(params.grad.data[5,5],params.data[5,5],EMAu[index][5,5])\n",
    "                    #print(EMAx[index][5,5],EMAg[index][5,5],EMAu[index][5,5])\n",
    "            #update weight and bias\n",
    "            \n",
    "            params.data -= learning_rate *EMAu[index]* params.grad.data\n",
    "        \n",
    "        #print(\"%d %d\"%(epoch, i))\n",
    "        running_loss += loss.data[0]\n",
    "        if i % 100 == 0:    # print every 2000 mini-batches\n",
    "            if i!=0:\n",
    "                    print('[%d, %5d] loss: %.8f' %(epoch + 1, i , running_loss / 100))\n",
    "            running_loss = 0.0\n",
    "            correct = 0.0\n",
    "            total = 0.0\n",
    "            for data in test_loader:\n",
    "                images, labels = data\n",
    "                outputs = cnn(Variable(images))\n",
    "                _, predicted = torch.max(outputs.data, 1)\n",
    "                total += labels.size(0)\n",
    "                correct += (predicted == labels).sum()\n",
    "                    #result_data[idx][i/100+epoch*4] = correct/total\n",
    "            result_data[int(i/100)+epoch*5] = correct/total\n",
    "print('Finished Training')"
   ]
  },
  {
   "cell_type": "code",
   "execution_count": 5,
   "metadata": {
    "collapsed": true
   },
   "outputs": [],
   "source": [
    "result1 = result_data"
   ]
  },
  {
   "cell_type": "code",
   "execution_count": 8,
   "metadata": {
    "collapsed": true
   },
   "outputs": [],
   "source": [
    "result2 = result_data "
   ]
  },
  {
   "cell_type": "code",
   "execution_count": 11,
   "metadata": {
    "collapsed": true
   },
   "outputs": [],
   "source": [
    "result3 = result_data "
   ]
  },
  {
   "cell_type": "code",
   "execution_count": 14,
   "metadata": {
    "collapsed": true
   },
   "outputs": [],
   "source": [
    "result4 = result_data"
   ]
  },
  {
   "cell_type": "code",
   "execution_count": 26,
   "metadata": {
    "collapsed": true
   },
   "outputs": [],
   "source": [
    "result5 = result_data"
   ]
  },
  {
   "cell_type": "code",
   "execution_count": 21,
   "metadata": {
    "collapsed": true
   },
   "outputs": [],
   "source": [
    "result6 = result_data"
   ]
  },
  {
   "cell_type": "code",
   "execution_count": 29,
   "metadata": {
    "collapsed": true
   },
   "outputs": [],
   "source": [
    "result7 = result_data"
   ]
  },
  {
   "cell_type": "code",
   "execution_count": 32,
   "metadata": {
    "collapsed": true
   },
   "outputs": [],
   "source": [
    "result8 = result_data"
   ]
  },
  {
   "cell_type": "code",
   "execution_count": 35,
   "metadata": {
    "collapsed": true
   },
   "outputs": [],
   "source": [
    "result9 = result_data"
   ]
  },
  {
   "cell_type": "code",
   "execution_count": 39,
   "metadata": {
    "collapsed": true
   },
   "outputs": [],
   "source": [
    "plt.plot(x_index,X6,label='0.2 0.5 std 0.03 0.8')"
   ]
  },
  {
   "cell_type": "code",
   "execution_count": 42,
   "metadata": {
    "collapsed": true
   },
   "outputs": [],
   "source": [
    "result11 = result_data"
   ]
  },
  {
   "cell_type": "code",
   "execution_count": 49,
   "metadata": {
    "collapsed": true
   },
   "outputs": [],
   "source": [
    "result_1 = result_data"
   ]
  },
  {
   "cell_type": "code",
   "execution_count": 12,
   "metadata": {},
   "outputs": [
    {
     "name": "stderr",
     "output_type": "stream",
     "text": [
      "D:\\anaconda\\lib\\site-packages\\matplotlib\\__init__.py:1405: UserWarning: \n",
      "This call to matplotlib.use() has no effect because the backend has already\n",
      "been chosen; matplotlib.use() must be called *before* pylab, matplotlib.pyplot,\n",
      "or matplotlib.backends is imported for the first time.\n",
      "\n",
      "  warnings.warn(_use_error_msg)\n"
     ]
    },
    {
     "data": {
      "image/png": "[encoded data removed]",
      "text/plain": [
       "<matplotlib.figure.Figure at 0x161f442bac8>"
      ]
     },
     "metadata": {},
     "output_type": "display_data"
    }
   ],
   "source": [
    "import matplotlib \n",
    "from matplotlib.ticker import  MultipleLocator\n",
    "matplotlib.use('Agg')\n",
    "x_index=np.arange(0,4,4.0/20)\n",
    "X1 = result1\n",
    "X2 = result2\n",
    "X3 = result3\n",
    "\n",
    "fig = plt.figure()\n",
    "plt.title(\"cSGD\")\n",
    "plt.xlabel('Epoch')\n",
    "plt.ylabel('Test Accu')\n",
    "plt.axis([-0.1,4,0.0,1.0]) \n",
    "plt.plot(x_index,X1,label='0.6 0.5 std 0.01')\n",
    "plt.plot(x_index,X2,label='0.6 0.5 std 0.05')\n",
    "plt.plot(x_index,X3,label='0.6 0.5 std 0.1')\n",
    "#plt.fill_between(x_index,X1,X3,color = 'red',alpha = '0.1')\n",
    "plt.legend(loc='lower right',framealpha = 0.5)\n",
    "#plt.savefig(\"cSGD para.png\") \n",
    "plt.show()"
   ]
  },
  {
   "cell_type": "code",
   "execution_count": 44,
   "metadata": {},
   "outputs": [
    {
     "name": "stderr",
     "output_type": "stream",
     "text": [
      "D:\\anaconda\\lib\\site-packages\\matplotlib\\__init__.py:1405: UserWarning: \n",
      "This call to matplotlib.use() has no effect because the backend has already\n",
      "been chosen; matplotlib.use() must be called *before* pylab, matplotlib.pyplot,\n",
      "or matplotlib.backends is imported for the first time.\n",
      "\n",
      "  warnings.warn(_use_error_msg)\n"
     ]
    },
    {
     "data": {
      "image/png": "[encoded data removed]",
      "text/plain": [
       "<matplotlib.figure.Figure at 0x161f7ff2748>"
      ]
     },
     "metadata": {},
     "output_type": "display_data"
    }
   ],
   "source": [
    "import matplotlib \n",
    "from matplotlib.ticker import  MultipleLocator\n",
    "matplotlib.use('Agg')\n",
    "x_index=np.arange(0,4,4.0/20)\n",
    "X1 = result4\n",
    "X2 = result5\n",
    "X3 = result6\n",
    "X4 = result7\n",
    "X5 = result8\n",
    "X6 = result9\n",
    "X7 = result10\n",
    "X8 = result11\n",
    "fig = plt.figure()\n",
    "plt.title(\"cSGD\")\n",
    "plt.xlabel('Epoch')\n",
    "plt.ylabel('Test Accu')\n",
    "plt.axis([-0.1,4,0.0,1.0]) \n",
    "plt.plot(x_index,X1,label='0.2 0.5 std 0.01')\n",
    "plt.plot(x_index,X2,label='0.2 0.5 std 0.05')\n",
    "plt.plot(x_index,X3,label='0.2 0.5 std 0.1')\n",
    "plt.plot(x_index,X4,label='0.2 0.5 std 0.005')\n",
    "plt.plot(x_index,X5,label='0.2 0.5 std 0.03 0.3')\n",
    "plt.plot(x_index,X6,label='0.2 0.5 std 0.03 0.8')\n",
    "plt.plot(x_index,X7,label='0.2 0.5 std 0.03 0.03')\n",
    "plt.plot(x_index,X8,label='0.2 0.5 std 0.01 0.3')\n",
    "#plt.fill_between(x_index,X1,X3,color = 'red',alpha = '0.1')\n",
    "plt.legend(loc='lower right',framealpha = 0.5)\n",
    "#plt.savefig(\"cSGD para.png\") \n",
    "plt.show()"
   ]
  },
  {
   "cell_type": "code",
   "execution_count": 50,
   "metadata": {},
   "outputs": [
    {
     "name": "stderr",
     "output_type": "stream",
     "text": [
      "D:\\anaconda\\lib\\site-packages\\matplotlib\\__init__.py:1405: UserWarning: \n",
      "This call to matplotlib.use() has no effect because the backend has already\n",
      "been chosen; matplotlib.use() must be called *before* pylab, matplotlib.pyplot,\n",
      "or matplotlib.backends is imported for the first time.\n",
      "\n",
      "  warnings.warn(_use_error_msg)\n"
     ]
    },
    {
     "data": {
      "image/png": "[encoded data removed]",
      "text/plain": [
       "<matplotlib.figure.Figure at 0x161f7f52550>"
      ]
     },
     "metadata": {},
     "output_type": "display_data"
    }
   ],
   "source": [
    "import matplotlib \n",
    "from matplotlib.ticker import  MultipleLocator\n",
    "matplotlib.use('Agg')\n",
    "x_index=np.arange(-0.1,4,4.0/20)\n",
    "X1 = result_1\n",
    "\n",
    "fig = plt.figure()\n",
    "plt.title(\"cSGD\")\n",
    "plt.xlabel('Epoch')\n",
    "plt.ylabel('Test Accu')\n",
    "plt.axis([-0.1,4,0.0,1.0]) \n",
    "plt.plot(x_index,X1,label='0.05 0.1')\n",
    "#plt.fill_between(x_index,X1,X3,color = 'red',alpha = '0.1')\n",
    "plt.legend(loc='lower right',framealpha = 0.5)\n",
    "#plt.savefig(\"cSGD para.png\") \n",
    "plt.show()"
   ]
  },
  {
   "cell_type": "code",
   "execution_count": 23,
   "metadata": {},
   "outputs": [
    {
     "name": "stdout",
     "output_type": "stream",
     "text": [
      "Accuracy of the network on the 10000 test images: 89 %\n"
     ]
    }
   ],
   "source": [
    "correct = 0\n",
    "total = 0\n",
    "for data in test_loader:\n",
    "    images, labels = data\n",
    "    outputs = cnn(Variable(images))\n",
    "    _, predicted = torch.max(outputs.data, 1)\n",
    "    total += labels.size(0)\n",
    "    correct += (predicted == labels).sum()\n",
    "\n",
    "print('Accuracy of the network on the 10000 test images: %d %%' % (\n",
    "    100 * correct / total))"
   ]
  }
 ],
 "metadata": {
  "kernelspec": {
   "display_name": "Python 3",
   "language": "python",
   "name": "python3"
  },
  "language_info": {
   "codemirror_mode": {
    "name": "ipython",
    "version": 3
   },
   "file_extension": ".py",
   "mimetype": "text/x-python",
   "name": "python",
   "nbconvert_exporter": "python",
   "pygments_lexer": "ipython3",
   "version": "3.6.1"
  }
 },
 "nbformat": 4,
 "nbformat_minor": 2
}
