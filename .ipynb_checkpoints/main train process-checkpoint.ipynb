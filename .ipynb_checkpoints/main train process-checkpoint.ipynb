{
 "cells": [
  {
   "cell_type": "code",
   "execution_count": 1,
   "metadata": {},
   "outputs": [
    {
     "name": "stdout",
     "output_type": "stream",
     "text": [
      "Extracting MNIST_data/train-images-idx3-ubyte.gz\n",
      "Extracting MNIST_data/train-labels-idx1-ubyte.gz\n",
      "Extracting MNIST_data/t10k-images-idx3-ubyte.gz\n",
      "Extracting MNIST_data/t10k-labels-idx1-ubyte.gz\n",
      "Datasets(train=<tensorflow.contrib.learn.python.learn.datasets.mnist.DataSet object at 0x00000274B76704E0>, validation=<tensorflow.contrib.learn.python.learn.datasets.mnist.DataSet object at 0x00000274B7670EF0>, test=<tensorflow.contrib.learn.python.learn.datasets.mnist.DataSet object at 0x00000274B7670EB8>)\n"
     ]
    }
   ],
   "source": [
    "import tensorflow as tf\n",
    "import numpy as np\n",
    "from tensorflow.examples.tutorials.mnist import input_data\n",
    "mnist = input_data.read_data_sets('MNIST_data/', one_hot=True)\n",
    "print(mnist)"
   ]
  },
  {
   "cell_type": "code",
   "execution_count": 8,
   "metadata": {},
   "outputs": [
    {
     "data": {
      "text/plain": [
       "(5000, 10)"
      ]
     },
     "execution_count": 8,
     "metadata": {},
     "output_type": "execute_result"
    }
   ],
   "source": [
    "mnist.validation.labels.shape"
   ]
  },
  {
   "cell_type": "code",
   "execution_count": 1,
   "metadata": {},
   "outputs": [
    {
     "name": "stdout",
     "output_type": "stream",
     "text": [
      "Extracting MNIST_data/train-images-idx3-ubyte.gz\n",
      "Extracting MNIST_data/train-labels-idx1-ubyte.gz\n",
      "Extracting MNIST_data/t10k-images-idx3-ubyte.gz\n",
      "Extracting MNIST_data/t10k-labels-idx1-ubyte.gz\n",
      "Datasets(train=<tensorflow.contrib.learn.python.learn.datasets.mnist.DataSet object at 0x0000027415D6F668>, validation=<tensorflow.contrib.learn.python.learn.datasets.mnist.DataSet object at 0x0000027415D6FBA8>, test=<tensorflow.contrib.learn.python.learn.datasets.mnist.DataSet object at 0x0000027415D6F5C0>)\n"
     ]
    }
   ],
   "source": [
    "import tensorflow as tf\n",
    "import numpy as np\n",
    "from tensorflow.examples.tutorials.mnist import input_data\n",
    "mnist = input_data.read_data_sets('MNIST_data/', one_hot=True)\n",
    "print(mnist)\n",
    "tf.set_random_seed(27)\n",
    "\n",
    "def weight_variable(shape,size_of_prelayer):\n",
    "    initial = tf.truncated_normal(shape, stddev=0.1,seed = 27)\n",
    "    return tf.Variable(initial)\n",
    "\n",
    "def bias_variable(shape):\n",
    "    initial = tf.constant(0.1, shape=shape)\n",
    "    return tf.Variable(initial)                      \n",
    "#graph structure\n",
    "def train(learning_rate,beta1,beta2,beta3):\n",
    "    sess = tf.InteractiveSession()\n",
    "    x = tf.placeholder(\"float\", [None, 784])\n",
    "    y_ = tf.placeholder(\"float\", [None, 10])\n",
    "\n",
    "    weights_1 =  weight_variable([784,10],784)\n",
    "    b1 = bias_variable([10])\n",
    "    weights_2 =  weight_variable([10,10],10)\n",
    "    b2 = bias_variable([10])\n",
    "\n",
    "    x2 = tf.nn.relu(tf.matmul(x,weights_1)+b1)\n",
    "    logits = tf.matmul(x2,weights_2)+b2\n",
    "    y = tf.nn.softmax(logits)\n",
    "\n",
    "    #loss function\n",
    "    #cross_entropy = tf.reduce_mean(-tf.reduce_sum(y_ * tf.log(y), reduction_indices=[1]))  \n",
    "    cross_entropy = tf.reduce_mean(tf.nn.softmax_cross_entropy_with_logits(labels=y_,logits=logits))\n",
    "    #regularizaiton\n",
    "    regularizer1 = tf.nn.l2_loss(weights_1) \n",
    "    regularizer2 = tf.nn.l2_loss(weights_2)\n",
    "    regularizer3 = tf.nn.l2_loss(b1)+tf.nn.l2_loss(b2)\n",
    "    #total loss\n",
    "    loss = tf.reduce_mean(cross_entropy+beta1*regularizer1+beta2*regularizer2+beta3*regularizer3)\n",
    "    #optimizer\n",
    "    train_step = tf.train.AdagradOptimizer(learning_rate).minimize(loss)\n",
    "\n",
    "    #Run Computation & Iterate\n",
    "    sess.run(tf.initialize_all_variables())\n",
    "    #print('Initialized')\n",
    "    for i in range(430*4):\n",
    "        batch = mnist.train.next_batch(128)\n",
    "        train_step.run(feed_dict={x: batch[0], y_: batch[1]})\n",
    "        #print(\"%d\"%i)\n",
    "    correct_prediction = tf.equal(tf.argmax(y,1), tf.argmax(y_,1))\n",
    "    accuracy = tf.reduce_mean(tf.cast(correct_prediction, \"float\"))\n",
    "    print(\"lr:%f acc:%f\"%(learning_rate,accuracy.eval(feed_dict={x: mnist.validation.images, y_: mnist.validation.labels})))\n",
    "    sess.close()\n",
    "    del sess"
   ]
  },
  {
   "cell_type": "code",
   "execution_count": 3,
   "metadata": {},
   "outputs": [
    {
     "name": "stdout",
     "output_type": "stream",
     "text": [
      "WARNING:tensorflow:From D:\\anaconda\\lib\\site-packages\\tensorflow\\python\\util\\tf_should_use.py:107: initialize_all_variables (from tensorflow.python.ops.variables) is deprecated and will be removed after 2017-03-02.\n",
      "Instructions for updating:\n",
      "Use `tf.global_variables_initializer` instead.\n",
      "lr:0.001152 acc:0.438200\n",
      "lr:0.002091 acc:0.685000\n",
      "lr:0.002186 acc:0.699400\n",
      "lr:0.002452 acc:0.734200\n",
      "lr:0.002489 acc:0.734600\n",
      "lr:0.002667 acc:0.754400\n",
      "lr:0.003600 acc:0.807800\n",
      "lr:0.004158 acc:0.824200\n",
      "lr:0.004468 acc:0.831600\n",
      "lr:0.005652 acc:0.853600\n",
      "lr:0.005950 acc:0.854800\n",
      "lr:0.006220 acc:0.862000\n",
      "lr:0.007885 acc:0.876200\n",
      "lr:0.010246 acc:0.884800\n",
      "lr:0.015968 acc:0.901200\n",
      "lr:0.028793 acc:0.913600\n",
      "lr:0.052825 acc:0.920400\n",
      "lr:0.056782 acc:0.920800\n",
      "lr:0.070771 acc:0.921400\n",
      "lr:0.076065 acc:0.923400\n",
      "lr:0.105512 acc:0.929000\n",
      "lr:0.121471 acc:0.929800\n",
      "lr:0.234885 acc:0.936800\n",
      "lr:0.275253 acc:0.933400\n",
      "lr:0.286458 acc:0.927600\n",
      "lr:0.309152 acc:0.926000\n",
      "lr:0.324550 acc:0.928800\n",
      "lr:0.352224 acc:0.926600\n",
      "lr:0.570812 acc:0.882000\n",
      "lr:0.613870 acc:0.769200\n"
     ]
    }
   ],
   "source": [
    "#x = [0.001,0.002,0.005,0.01,0.02,0.04,0.1,0.3,0.5,0.8,1]\n",
    "for index in range(0, len(y)):\n",
    "    lr = y[index]\n",
    "    beta_w1 = 1/(784*10)\n",
    "    beta_w2 = 1/(10*10)\n",
    "    beta_b = 1/(10)\n",
    "    train(lr,beta_w1,beta_w2,beta_b)"
   ]
  },
  {
   "cell_type": "markdown",
   "metadata": {},
   "source": [
    "## draw the plot"
   ]
  },
  {
   "cell_type": "code",
   "execution_count": null,
   "metadata": {
    "collapsed": true
   },
   "outputs": [],
   "source": [
    "import numpy as np\n",
    "import matplotlib.pyplot as plt\n",
    "x=np.arange(-5,5,0.01)\n",
    "y=x**3\n",
    "plt.axis([0,4,0.0,1.0])\n",
    "plt.plot(x,y)\n",
    "plt.show()"
   ]
  },
  {
   "cell_type": "code",
   "execution_count": 2,
   "metadata": {},
   "outputs": [
    {
     "data": {
      "text/plain": [
       "array([ 0.00115247,  0.0020913 ,  0.00218573,  0.00245226,  0.0024888 ,\n",
       "        0.00266662,  0.00359955,  0.00415777,  0.00446818,  0.00565215,\n",
       "        0.00595   ,  0.00622025,  0.00788472,  0.01024637,  0.01596792,\n",
       "        0.02879276,  0.05282455,  0.05678179,  0.07077138,  0.07606549,\n",
       "        0.10551151,  0.12147138,  0.23488457,  0.27525326,  0.28645761,\n",
       "        0.30915189,  0.32454988,  0.3522242 ,  0.57081151,  0.61386958])"
      ]
     },
     "execution_count": 2,
     "metadata": {},
     "output_type": "execute_result"
    }
   ],
   "source": [
    "np.random.seed(27)\n",
    "random = -3*np.random.random(30)\n",
    "x = (10**random)\n",
    "y = np.sort(x)\n",
    "y"
   ]
  }
 ],
 "metadata": {
  "kernelspec": {
   "display_name": "Python 3",
   "language": "python",
   "name": "python3"
  },
  "language_info": {
   "codemirror_mode": {
    "name": "ipython",
    "version": 3
   },
   "file_extension": ".py",
   "mimetype": "text/x-python",
   "name": "python",
   "nbconvert_exporter": "python",
   "pygments_lexer": "ipython3",
   "version": "3.6.1"
  }
 },
 "nbformat": 4,
 "nbformat_minor": 2
}
